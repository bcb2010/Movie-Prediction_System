{
 "cells": [
  {
   "cell_type": "code",
   "execution_count": 1,
   "id": "50de6109-5fd0-4ae4-95ba-d4d92a1f14ff",
   "metadata": {
    "scrolled": true
   },
   "outputs": [
    {
     "name": "stdout",
     "output_type": "stream",
     "text": [
      "[[0.9691176470588233 0.023848112989117848 0.6662222222222223 ... False\n",
      "  False False]\n",
      " [0.8191176470588236 0.030562630238481128 0.6698888888888888 ... False\n",
      "  False False]\n",
      " [0.6926470588235293 0.023848112989117848 0.6006666666666667 ... False\n",
      "  False False]\n",
      " ...\n",
      " [0.9117647058823529 0.018291271127575826 0.39999999999999997 ... False\n",
      "  False False]\n",
      " [0.0 0.01203982403334105 0.6222222222222222 ... False False False]\n",
      " [0.0 0.013660569576290808 0.5111111111111111 ... False False False]]\n"
     ]
    }
   ],
   "source": [
    "import pandas as pd\n",
    "from sklearn.preprocessing import MinMaxScaler\n",
    "from sklearn.neighbors import NearestNeighbors\n",
    "from sklearn.feature_extraction.text import CountVectorizer\n",
    "\n",
    "#Load the dataset\n",
    "file_path = 'final_movies_.csv'  # Replace with your dataset file path\n",
    "movies = pd.read_csv(file_path)\n",
    "\n",
    "#Features to use\n",
    "numerical_features = [\"popularity\", \"runtime\", \"vote_average\"]\n",
    "categorical_features = [\"genres\", \"original_language\"]\n",
    "\n",
    "#Scale Numerical Features\n",
    "scaler = MinMaxScaler()\n",
    "numerical_scaled = scaler.fit_transform(movies[numerical_features])\n",
    "\n",
    "#Encode 'original_language' \n",
    "onehot_encoded_language = pd.get_dummies(movies['original_language'], prefix='lang')\n",
    "\n",
    "#Remove extra whitespaces from the 'genres' column\n",
    "movies['genres'] = movies['genres'].str.replace(r'\\s+', '', regex=True)\n",
    "\n",
    "#Encode 'genre'\n",
    "onehot_encoded_genres = movies['genres'].str.get_dummies(sep=',')\n",
    "\n",
    "#Combine Features\n",
    "features_combined = pd.concat(\n",
    "    [pd.DataFrame(numerical_scaled, columns=numerical_features), onehot_encoded_genres, onehot_encoded_language],\n",
    "    axis=1\n",
    ").values\n",
    "\n",
    "print(features_combined)\n"
   ]
  },
  {
   "cell_type": "code",
   "execution_count": 3,
   "id": "3386af59-e730-4b55-9419-7ea290298a9c",
   "metadata": {},
   "outputs": [
    {
     "name": "stdout",
     "output_type": "stream",
     "text": [
      "       Action  Adventure  Animation  Comedy  Crime  Documentary  Drama  \\\n",
      "0           1          1          0       0      0            0      0   \n",
      "1           1          1          0       0      0            0      0   \n",
      "2           1          1          0       0      0            0      0   \n",
      "3           0          0          1       0      0            0      1   \n",
      "4           0          0          0       1      0            0      0   \n",
      "...       ...        ...        ...     ...    ...          ...    ...   \n",
      "23095       0          0          0       0      0            0      1   \n",
      "23096       0          1          0       1      0            0      1   \n",
      "23097       0          0          0       0      0            0      1   \n",
      "23098       0          0          0       0      0            1      0   \n",
      "23099       0          0          0       0      0            1      0   \n",
      "\n",
      "       Family  Fantasy  History  Horror  Music  Mystery  Romance  \\\n",
      "0           0        0        0       0      0        0        0   \n",
      "1           0        0        0       0      0        0        0   \n",
      "2           0        0        0       0      0        0        0   \n",
      "3           0        0        0       0      0        0        0   \n",
      "4           0        0        0       0      0        0        0   \n",
      "...       ...      ...      ...     ...    ...      ...      ...   \n",
      "23095       0        0        1       0      0        0        0   \n",
      "23096       0        0        0       0      0        0        1   \n",
      "23097       0        0        0       0      0        0        0   \n",
      "23098       0        0        0       0      0        0        0   \n",
      "23099       0        0        0       0      0        0        0   \n",
      "\n",
      "       ScienceFiction  TVMovie  Thriller  Unknown  War  Western  \n",
      "0                   1        0         0        0    0        0  \n",
      "1                   1        0         0        0    0        0  \n",
      "2                   1        0         1        0    0        0  \n",
      "3                   0        0         0        0    1        0  \n",
      "4                   0        0         0        0    0        0  \n",
      "...               ...      ...       ...      ...  ...      ...  \n",
      "23095               0        0         0        0    0        0  \n",
      "23096               0        0         0        0    0        0  \n",
      "23097               0        0         0        0    0        0  \n",
      "23098               0        0         0        0    0        0  \n",
      "23099               0        0         0        0    0        0  \n",
      "\n",
      "[23100 rows x 20 columns]\n"
     ]
    }
   ],
   "source": [
    "print(onehot_encoded_genres)"
   ]
  },
  {
   "cell_type": "code",
   "execution_count": 9,
   "id": "68d2b60e-e3fe-4264-a933-0fb793005bed",
   "metadata": {},
   "outputs": [
    {
     "name": "stdout",
     "output_type": "stream",
     "text": [
      "Movies similar to 'Dark Silence':\n",
      "['Ghosts That Still Walk', 'Raymond Did It', 'Play Dead', 'Fear House', 'Tomboys']\n"
     ]
    }
   ],
   "source": [
    "\n",
    "#Train the KNN Model\n",
    "knn = NearestNeighbors(metric='cosine')\n",
    "knn.fit(features_combined)\n",
    "\n",
    "#Function to Recommend Movies\n",
    "def recommend_movies_knn(movie_title, n_recommendations=5):\n",
    "    try:\n",
    "        # Find the index of the movie\n",
    "        movie_idx = movies[movies['title'].str.lower() == movie_title.lower()].index[0]\n",
    "        \n",
    "        # Get the feature vector for the movie\n",
    "        movie_vector = features_combined[movie_idx].reshape(1, -1)\n",
    "        \n",
    "        # Find the nearest neighbors\n",
    "        distances, indices = knn.kneighbors(movie_vector, n_neighbors=n_recommendations + 1)\n",
    "    \n",
    "        # Get the titles of the recommended movies (exclude the movie itself)\n",
    "        recommended_movies = movies.iloc[indices[0][1:]]['title'].tolist()\n",
    "        return recommended_movies\n",
    "    except IndexError:\n",
    "        return f\"Movie '{movie_title}' not found in the dataset.\"\n",
    "\n",
    "\n",
    "movie_to_search = \"Dark Silence\"  # Replace with a valid movie title\n",
    "recommended_movies = recommend_movies_knn(movie_to_search)\n",
    "\n",
    "#Output Recommendations\n",
    "print(f\"Movies similar to '{movie_to_search}':\")\n",
    "print(recommended_movies)\n"
   ]
  },
  {
   "cell_type": "code",
   "execution_count": null,
   "id": "bd2026d7-7db2-41bc-a0ca-f1e1b3c057fe",
   "metadata": {},
   "outputs": [],
   "source": []
  }
 ],
 "metadata": {
  "kernelspec": {
   "display_name": "Python 3 (ipykernel)",
   "language": "python",
   "name": "python3"
  },
  "language_info": {
   "codemirror_mode": {
    "name": "ipython",
    "version": 3
   },
   "file_extension": ".py",
   "mimetype": "text/x-python",
   "name": "python",
   "nbconvert_exporter": "python",
   "pygments_lexer": "ipython3",
   "version": "3.12.7"
  }
 },
 "nbformat": 4,
 "nbformat_minor": 5
}
