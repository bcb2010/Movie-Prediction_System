{
 "cells": [
  {
   "cell_type": "code",
   "execution_count": 4,
   "id": "50de6109-5fd0-4ae4-95ba-d4d92a1f14ff",
   "metadata": {},
   "outputs": [
    {
     "name": "stdout",
     "output_type": "stream",
     "text": [
      "Movies similar to 'Don 2':\n",
      "['Karz', 'Mardangi', 'Raksha', 'Sky Force', 'Dada Lakhmi']\n"
     ]
    }
   ],
   "source": [
    "import pandas as pd\n",
    "from sklearn.preprocessing import MinMaxScaler\n",
    "from sklearn.preprocessing import OneHotEncoder\n",
    "from sklearn.neighbors import NearestNeighbors\n",
    "\n",
    "# Load the dataset\n",
    "file_path = '25000_movie_subset.csv'  # Replace with your dataset file path\n",
    "movies = pd.read_csv(file_path)\n",
    "\n",
    "# Features to use\n",
    "numerical_features = [\"popularity\", \"vote_average\", \"runtime\"]\n",
    "categorical_features = [\"genres\", \"original_language\"]\n",
    "\n",
    "# Scale numerical features\n",
    "scaler = MinMaxScaler()\n",
    "numerical_scaled = scaler.fit_transform(movies[numerical_features])\n",
    "\n",
    "# One-hot encode categorical features\n",
    "onehot_encoder = OneHotEncoder(handle_unknown='ignore', sparse_output=False)\n",
    "categorical_encoded = onehot_encoder.fit_transform(movies[categorical_features])\n",
    "\n",
    "# Combine numerical and categorical features\n",
    "features_combined = pd.concat(\n",
    "    [pd.DataFrame(numerical_scaled), pd.DataFrame(categorical_encoded)],\n",
    "    axis=1\n",
    ").values\n",
    "\n",
    "# Train the KNN model\n",
    "knn = NearestNeighbors(metric='cosine', algorithm='brute')\n",
    "knn.fit(features_combined)\n",
    "\n",
    "# Function to recommend movies\n",
    "def recommend_movies_knn(movie_title, n_recommendations=5):\n",
    "    try:\n",
    "        # Find the index of the movie\n",
    "        movie_idx = movies[movies['title'].str.lower() == movie_title.lower()].index[0]\n",
    "        \n",
    "        # Get the feature vector for the movie\n",
    "        movie_vector = features_combined[movie_idx].reshape(1, -1)\n",
    "        \n",
    "        # Find the nearest neighbors\n",
    "        distances, indices = knn.kneighbors(movie_vector, n_neighbors=n_recommendations + 1)\n",
    "        \n",
    "        # Get the titles of the recommended movies\n",
    "        recommended_movies = movies.iloc[indices[0][1:]]['title'].tolist()\n",
    "        return recommended_movies\n",
    "    except IndexError:\n",
    "        return f\"Movie '{movie_title}' not found in the dataset.\"\n",
    "\n",
    "# Example usage\n",
    "movie_to_search = \"Don 2\"  # Replace with a valid movie title\n",
    "recommended_movies = recommend_movies_knn(movie_to_search)\n",
    "\n",
    "# Output recommendations\n",
    "print(f\"Movies similar to '{movie_to_search}':\")\n",
    "print(recommended_movies)\n"
   ]
  },
  {
   "cell_type": "code",
   "execution_count": null,
   "id": "833efd06-a64d-465a-b5e6-4b09585476f8",
   "metadata": {},
   "outputs": [],
   "source": []
  }
 ],
 "metadata": {
  "kernelspec": {
   "display_name": "Python 3 (ipykernel)",
   "language": "python",
   "name": "python3"
  },
  "language_info": {
   "codemirror_mode": {
    "name": "ipython",
    "version": 3
   },
   "file_extension": ".py",
   "mimetype": "text/x-python",
   "name": "python",
   "nbconvert_exporter": "python",
   "pygments_lexer": "ipython3",
   "version": "3.12.7"
  }
 },
 "nbformat": 4,
 "nbformat_minor": 5
}
