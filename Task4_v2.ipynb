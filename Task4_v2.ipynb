{
 "cells": [
  {
   "cell_type": "code",
   "execution_count": 34,
   "id": "50de6109-5fd0-4ae4-95ba-d4d92a1f14ff",
   "metadata": {},
   "outputs": [
    {
     "name": "stdout",
     "output_type": "stream",
     "text": [
      "Movies similar to 'X-Men':\n",
      "[\"The Secret of the Incas' Empire\", 'Clash of the Warlords', 'Miles', 'Mount Adams', 'Space Fury']\n"
     ]
    }
   ],
   "source": [
    "import pandas as pd\n",
    "from sklearn.preprocessing import MinMaxScaler\n",
    "from sklearn.neighbors import NearestNeighbors\n",
    "from sklearn.feature_extraction.text import CountVectorizer\n",
    "\n",
    "# Load the dataset\n",
    "file_path = 'final_movies_.csv'  # Replace with your dataset file path\n",
    "movies = pd.read_csv(file_path)\n",
    "\n",
    "# Features to use\n",
    "numerical_features = [\"popularity\", \"runtime\"]\n",
    "categorical_features = [\"genres\", \"original_language\"]\n",
    "\n",
    "### ** Scale Numerical Features**\n",
    "scaler = MinMaxScaler()\n",
    "numerical_scaled = scaler.fit_transform(movies[numerical_features])\n",
    "\n",
    "### **Use CountVectorizer for 'genres'**\n",
    "# Encode the 'genres' column using CountVectorizer\n",
    "vectorizer = CountVectorizer()\n",
    "genres_encoded = vectorizer.fit_transform(movies['genres'])\n",
    "\n",
    "# Convert genres to DataFrame for better visibility\n",
    "genres_df = pd.DataFrame(genres_encoded.toarray(), columns=vectorizer.get_feature_names_out())\n",
    "#print(genres_df)\n",
    "\n",
    "### ** One-Hot Encode 'original_language'**\n",
    "# Encode 'original_language' using OneHotEncoding\n",
    "onehot_encoded_language = pd.get_dummies(movies['original_language'], prefix='lang')\n",
    "#print(onehot_encoded_language)\n",
    "\n",
    "### **Combine Numerical, Genres, and Language Encoded Features**\n",
    "features_combined = pd.concat(\n",
    "    [pd.DataFrame(numerical_scaled, columns=numerical_features), genres_df, onehot_encoded_language],\n",
    "    axis=1\n",
    ").values\n",
    "#print(features_combined)\n",
    "\n",
    "### **5️Train the KNN Model**\n",
    "knn = NearestNeighbors(metric='cosine')\n",
    "knn.fit(features_combined)\n",
    "\n",
    "### **6️ Function to Recommend Movies**\n",
    "def recommend_movies_knn(movie_title, n_recommendations=5):\n",
    "    try:\n",
    "        # Find the index of the movie\n",
    "        movie_idx = movies[movies['title'].str.lower() == movie_title.lower()].index[0]\n",
    "        \n",
    "        # Get the feature vector for the movie\n",
    "        movie_vector = features_combined[movie_idx].reshape(1, -1)\n",
    "        #print(movie_vector)\n",
    "        \n",
    "        # Find the nearest neighbors\n",
    "        distances, indices = knn.kneighbors(movie_vector, n_neighbors=n_recommendations + 1)\n",
    "        #print(distances)\n",
    "        #print(indices)\n",
    "        \n",
    "        # Get the titles of the recommended movies (exclude the movie itself)\n",
    "        recommended_movies = movies.iloc[indices[0][1:]]['title'].tolist()\n",
    "        return recommended_movies\n",
    "    except IndexError:\n",
    "        return f\"Movie '{movie_title}' not found in the dataset.\"\n",
    "\n",
    "\n",
    "movie_to_search = \"X-Men\"  # Replace with a valid movie title\n",
    "recommended_movies = recommend_movies_knn(movie_to_search)\n",
    "\n",
    "### ** Output Recommendations**\n",
    "print(f\"Movies similar to '{movie_to_search}':\")\n",
    "print(recommended_movies)\n"
   ]
  }
 ],
 "metadata": {
  "kernelspec": {
   "display_name": "Python 3 (ipykernel)",
   "language": "python",
   "name": "python3"
  },
  "language_info": {
   "codemirror_mode": {
    "name": "ipython",
    "version": 3
   },
   "file_extension": ".py",
   "mimetype": "text/x-python",
   "name": "python",
   "nbconvert_exporter": "python",
   "pygments_lexer": "ipython3",
   "version": "3.12.7"
  }
 },
 "nbformat": 4,
 "nbformat_minor": 5
}
