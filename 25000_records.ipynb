{
 "cells": [
  {
   "cell_type": "code",
   "execution_count": 12,
   "id": "2e741c7d-ad10-4b79-a8cf-c7f05cc8f744",
   "metadata": {},
   "outputs": [
    {
     "name": "stdout",
     "output_type": "stream",
     "text": [
      "Rows with missing values in ['title', 'release_date', 'revenue', 'imdb_id', 'genres', 'production_companies', 'production_countries'] have been removed.\n",
      "Cleaned dataset saved as '25000_movie_subset.csv'.\n",
      "(25000, 21)\n"
     ]
    }
   ],
   "source": [
    "import pandas as pd\n",
    "\n",
    "# Load the dataset\n",
    "file_path = 'cleaned_working_dataset.csv'  # Replace with your dataset file path\n",
    "movies = pd.read_csv(file_path)\n",
    "\n",
    "# Columns to check for missing values\n",
    "columns_to_check = [\"title\", \"release_date\", \"revenue\", \"imdb_id\", \"genres\", \"production_companies\", \"production_countries\"]\n",
    "\n",
    "# Remove rows with missing values in the specified columns\n",
    "movies_cleaned = movies.dropna(subset=columns_to_check)\n",
    "movies_cleaned.shape\n",
    "\n",
    "# Select the first 25,000 movies from the dataset\n",
    "subset_size = 25000  # Adjust this value if needed\n",
    "movies_subset = movies_cleaned.head(subset_size).reset_index(drop=True)\n",
    "\n",
    "# Save the cleaned dataset to a new CSV file\n",
    "output_file_path = '25000_movie_subset.csv'\n",
    "movies_subset.to_csv(output_file_path, index=False)\n",
    "\n",
    "print(f\"Rows with missing values in {columns_to_check} have been removed.\")\n",
    "print(f\"Cleaned dataset saved as '{output_file_path}'.\")\n",
    "\n",
    "print(movies_subset.shape)\n",
    "\n"
   ]
  },
  {
   "cell_type": "code",
   "execution_count": null,
   "id": "f9b3542d-e662-4a71-aa90-c4398398d1d4",
   "metadata": {},
   "outputs": [],
   "source": []
  }
 ],
 "metadata": {
  "kernelspec": {
   "display_name": "Python 3 (ipykernel)",
   "language": "python",
   "name": "python3"
  },
  "language_info": {
   "codemirror_mode": {
    "name": "ipython",
    "version": 3
   },
   "file_extension": ".py",
   "mimetype": "text/x-python",
   "name": "python",
   "nbconvert_exporter": "python",
   "pygments_lexer": "ipython3",
   "version": "3.12.7"
  }
 },
 "nbformat": 4,
 "nbformat_minor": 5
}
